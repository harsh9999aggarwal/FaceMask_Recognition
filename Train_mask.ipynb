{
  "nbformat": 4,
  "nbformat_minor": 0,
  "metadata": {
    "colab": {
      "name": "Train_mask",
      "provenance": [],
      "collapsed_sections": []
    },
    "kernelspec": {
      "name": "python3",
      "display_name": "Python 3"
    }
  },
  "cells": [
    {
      "cell_type": "code",
      "metadata": {
        "id": "WtWwWluShkFD"
      },
      "source": [
        "import keras"
      ],
      "execution_count": 1,
      "outputs": []
    },
    {
      "cell_type": "code",
      "metadata": {
        "id": "m2UwZ98GmQec"
      },
      "source": [
        "from keras.optimizers import RMSprop\n",
        "from keras.preprocessing.image import ImageDataGenerator\n",
        "import cv2\n",
        "from keras.models import Sequential\n",
        "from keras.layers import Conv2D, Input, ZeroPadding2D, BatchNormalization, Activation, MaxPooling2D, Flatten, Dense,Dropout\n",
        "from keras.models import Model, load_model\n",
        "from keras.callbacks import TensorBoard, ModelCheckpoint\n",
        "from sklearn.model_selection import train_test_split\n",
        "from sklearn.metrics import f1_score\n",
        "from sklearn.utils import shuffle\n",
        "import imutils\n",
        "import numpy as np"
      ],
      "execution_count": 2,
      "outputs": []
    },
    {
      "cell_type": "code",
      "metadata": {
        "id": "3wvnEJyosME8"
      },
      "source": [
        "model = Sequential([\n",
        "    Conv2D(100, (3,3), activation='relu', input_shape=(150, 150, 3)),\n",
        "    MaxPooling2D(2,2),\n",
        "    \n",
        "    Conv2D(100, (3,3), activation='relu'),\n",
        "    MaxPooling2D(2,2),\n",
        "    \n",
        "    Flatten(),\n",
        "    Dropout(0.5),\n",
        "    Dense(50, activation='relu'),\n",
        "    Dense(2, activation='softmax')\n",
        "])\n",
        "model.compile(optimizer='adam', loss='binary_crossentropy', metrics=['acc'])"
      ],
      "execution_count": 14,
      "outputs": []
    },
    {
      "cell_type": "code",
      "metadata": {
        "id": "IHsg8oUbsRX9",
        "colab": {
          "base_uri": "https://localhost:8080/"
        },
        "outputId": "c9e1a51b-55b1-4588-eeb1-548e9495a0eb"
      },
      "source": [
        "\n",
        "TRAINING_DIR = \"/content/facemask/dataset/train\"\n",
        "train_datagen = ImageDataGenerator(rescale=1.0/255,\n",
        "                                   rotation_range=40,\n",
        "                                   width_shift_range=0.2,\n",
        "                                   height_shift_range=0.2,\n",
        "                                   shear_range=0.2,\n",
        "                                   zoom_range=0.2,\n",
        "                                   horizontal_flip=True,\n",
        "                                   fill_mode='nearest')\n",
        "\n",
        "train_generator = train_datagen.flow_from_directory(TRAINING_DIR, \n",
        "                                                    batch_size=10, \n",
        "                                                    target_size=(150, 150))\n",
        "VALIDATION_DIR = \"/content/facemask/dataset/test\"\n",
        "validation_datagen = ImageDataGenerator(rescale=1.0/255)\n",
        "\n",
        "validation_generator = validation_datagen.flow_from_directory(VALIDATION_DIR, \n",
        "                                                         batch_size=10, \n",
        "                                                         target_size=(150, 150))\n",
        "\n",
        "\n"
      ],
      "execution_count": 15,
      "outputs": [
        {
          "output_type": "stream",
          "text": [
            "Found 1315 images belonging to 2 classes.\n",
            "Found 194 images belonging to 2 classes.\n"
          ],
          "name": "stdout"
        }
      ]
    },
    {
      "cell_type": "code",
      "metadata": {
        "colab": {
          "base_uri": "https://localhost:8080/"
        },
        "id": "5hirgKUnLQJC",
        "outputId": "065b98b7-bab2-4f33-e90e-23825ac0147a"
      },
      "source": [
        "train_generator.class_indices\n",
        "validation_generator.class_indices"
      ],
      "execution_count": 16,
      "outputs": [
        {
          "output_type": "execute_result",
          "data": {
            "text/plain": [
              "{'with_mask': 0, 'without_mask': 1}"
            ]
          },
          "metadata": {
            "tags": []
          },
          "execution_count": 16
        }
      ]
    },
    {
      "cell_type": "code",
      "metadata": {
        "id": "tZ0Cb3tp3O43"
      },
      "source": [
        "from PIL import ImageFile\n",
        "ImageFile.LOAD_TRUNCATED_IMAGES = True"
      ],
      "execution_count": 17,
      "outputs": []
    },
    {
      "cell_type": "code",
      "metadata": {
        "colab": {
          "base_uri": "https://localhost:8080/"
        },
        "id": "pW1orI-76UNT",
        "outputId": "33b42576-2fa0-4a72-fc7b-1c8fe20be120"
      },
      "source": [
        "import os\n",
        "dir = os.listdir('/content/facemask/dataset/train')\n",
        "print(dir)\n",
        "file_path = ('/content/facemask/dataset/train/.ipynb_checkpoints')\n",
        "os.rmdir(file_path)\n"
      ],
      "execution_count": 11,
      "outputs": [
        {
          "output_type": "stream",
          "text": [
            "['without_mask', 'with_mask', '.ipynb_checkpoints']\n"
          ],
          "name": "stdout"
        }
      ]
    },
    {
      "cell_type": "code",
      "metadata": {
        "colab": {
          "base_uri": "https://localhost:8080/"
        },
        "id": "xBIVMkJL6qoB",
        "outputId": "d83b40d8-5ba3-4820-e8b0-2d7f76fcd5b2"
      },
      "source": [
        " import os\n",
        " dir = os.listdir('/content/facemask/dataset/train')\n",
        " print(dir)"
      ],
      "execution_count": 12,
      "outputs": [
        {
          "output_type": "stream",
          "text": [
            "['without_mask', 'with_mask']\n"
          ],
          "name": "stdout"
        }
      ]
    },
    {
      "cell_type": "code",
      "metadata": {
        "id": "FXmqfpVB28a2"
      },
      "source": [
        "checkpoint = ModelCheckpoint('model2-{epoch:03d}.model',\n",
        "                             monitor='val_loss',verbose=0,\n",
        "                             save_best_only=True,mode='auto')"
      ],
      "execution_count": 18,
      "outputs": []
    },
    {
      "cell_type": "code",
      "metadata": {
        "colab": {
          "base_uri": "https://localhost:8080/"
        },
        "id": "NsD9ByI62_W9",
        "outputId": "2a1dea8b-c802-4d84-a8c2-53c2d93419dd"
      },
      "source": [
        "history = model.fit_generator(train_generator,\n",
        "                              epochs=10,\n",
        "                              validation_data=validation_generator,\n",
        "                              callbacks=[checkpoint])\n",
        "\n"
      ],
      "execution_count": 19,
      "outputs": [
        {
          "output_type": "stream",
          "text": [
            "/usr/local/lib/python3.6/dist-packages/tensorflow/python/keras/engine/training.py:1844: UserWarning: `Model.fit_generator` is deprecated and will be removed in a future version. Please use `Model.fit`, which supports generators.\n",
            "  warnings.warn('`Model.fit_generator` is deprecated and '\n"
          ],
          "name": "stderr"
        },
        {
          "output_type": "stream",
          "text": [
            "Epoch 1/10\n",
            "132/132 [==============================] - 118s 884ms/step - loss: 0.7775 - acc: 0.5820 - val_loss: 0.2280 - val_acc: 0.9227\n",
            "INFO:tensorflow:Assets written to: model2-001.model/assets\n",
            "Epoch 2/10\n",
            "132/132 [==============================] - 115s 872ms/step - loss: 0.3349 - acc: 0.8505 - val_loss: 0.1340 - val_acc: 0.9588\n",
            "INFO:tensorflow:Assets written to: model2-002.model/assets\n",
            "Epoch 3/10\n",
            "132/132 [==============================] - 116s 879ms/step - loss: 0.2720 - acc: 0.9008 - val_loss: 0.1746 - val_acc: 0.9691\n",
            "Epoch 4/10\n",
            "132/132 [==============================] - 115s 871ms/step - loss: 0.2869 - acc: 0.8810 - val_loss: 0.1826 - val_acc: 0.9124\n",
            "Epoch 5/10\n",
            "132/132 [==============================] - 116s 878ms/step - loss: 0.2293 - acc: 0.9143 - val_loss: 0.1186 - val_acc: 0.9691\n",
            "INFO:tensorflow:Assets written to: model2-005.model/assets\n",
            "Epoch 6/10\n",
            "132/132 [==============================] - 116s 876ms/step - loss: 0.2287 - acc: 0.9136 - val_loss: 0.1050 - val_acc: 0.9485\n",
            "INFO:tensorflow:Assets written to: model2-006.model/assets\n",
            "Epoch 7/10\n",
            "132/132 [==============================] - 115s 870ms/step - loss: 0.1836 - acc: 0.9453 - val_loss: 0.1317 - val_acc: 0.9536\n",
            "Epoch 8/10\n",
            "132/132 [==============================] - 115s 869ms/step - loss: 0.2112 - acc: 0.9333 - val_loss: 0.3574 - val_acc: 0.8711\n",
            "Epoch 9/10\n",
            "132/132 [==============================] - 115s 869ms/step - loss: 0.2113 - acc: 0.9198 - val_loss: 0.0657 - val_acc: 0.9845\n",
            "INFO:tensorflow:Assets written to: model2-009.model/assets\n",
            "Epoch 10/10\n",
            "132/132 [==============================] - 114s 867ms/step - loss: 0.2036 - acc: 0.9265 - val_loss: 0.0816 - val_acc: 0.9794\n"
          ],
          "name": "stdout"
        }
      ]
    },
    {
      "cell_type": "code",
      "metadata": {
        "id": "Y5KHcizj6srk"
      },
      "source": [
        "model.save(\"mask_model.h5\")\n"
      ],
      "execution_count": 20,
      "outputs": []
    },
    {
      "cell_type": "code",
      "metadata": {
        "colab": {
          "base_uri": "https://localhost:8080/"
        },
        "id": "nk-boIZMNM6V",
        "outputId": "fad657a5-d571-40fb-eb28-855453af6273"
      },
      "source": [
        "model.evaluate(train_generator)"
      ],
      "execution_count": 21,
      "outputs": [
        {
          "output_type": "stream",
          "text": [
            "132/132 [==============================] - 37s 282ms/step - loss: 0.2254 - acc: 0.9148\n"
          ],
          "name": "stdout"
        },
        {
          "output_type": "execute_result",
          "data": {
            "text/plain": [
              "[0.22542501986026764, 0.914828896522522]"
            ]
          },
          "metadata": {
            "tags": []
          },
          "execution_count": 21
        }
      ]
    },
    {
      "cell_type": "code",
      "metadata": {
        "colab": {
          "base_uri": "https://localhost:8080/"
        },
        "id": "1wIjGpFfNN0k",
        "outputId": "5e83a524-1db4-486e-84ee-4c9aa85394de"
      },
      "source": [
        "model.evaluate(validation_generator)"
      ],
      "execution_count": 22,
      "outputs": [
        {
          "output_type": "stream",
          "text": [
            "20/20 [==============================] - 4s 207ms/step - loss: 0.0816 - acc: 0.9794\n"
          ],
          "name": "stdout"
        },
        {
          "output_type": "execute_result",
          "data": {
            "text/plain": [
              "[0.08163958042860031, 0.9793814420700073]"
            ]
          },
          "metadata": {
            "tags": []
          },
          "execution_count": 22
        }
      ]
    },
    {
      "cell_type": "code",
      "metadata": {
        "id": "DWeB1bSeNVxD"
      },
      "source": [
        "import os\n",
        "model=load_model('mask_model.h5')\n"
      ],
      "execution_count": 23,
      "outputs": []
    },
    {
      "cell_type": "code",
      "metadata": {
        "id": "CXEu8yJiNfSG"
      },
      "source": [
        "results={0:'without mask',1:'mask'}\n",
        "GR_dict={0:(0,0,255),1:(0,255,0)}"
      ],
      "execution_count": 24,
      "outputs": []
    },
    {
      "cell_type": "code",
      "metadata": {
        "id": "2ig5N-gGNwqD"
      },
      "source": [
        "haarcascade = cv2.CascadeClassifier('/content/facemask/haarcascade_frontalface_default.xml')"
      ],
      "execution_count": 39,
      "outputs": []
    },
    {
      "cell_type": "code",
      "metadata": {
        "id": "hfV-T_EqOib2"
      },
      "source": [
        ""
      ],
      "execution_count": null,
      "outputs": []
    },
    {
      "cell_type": "code",
      "metadata": {
        "id": "kvEb6zDNQ5B3"
      },
      "source": [
        ""
      ],
      "execution_count": null,
      "outputs": []
    }
  ]
}